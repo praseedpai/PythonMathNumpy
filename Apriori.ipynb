{
 "cells": [
  {
   "cell_type": "code",
   "execution_count": 1,
   "metadata": {},
   "outputs": [
    {
     "name": "stdout",
     "output_type": "stream",
     "text": [
      "    support                     itemsets\n",
      "0       0.8                       (Eggs)\n",
      "1       1.0               (Kidney Beans)\n",
      "2       0.6                       (Milk)\n",
      "3       0.6                      (Onion)\n",
      "4       0.6                     (Yogurt)\n",
      "5       0.8         (Kidney Beans, Eggs)\n",
      "6       0.6                (Eggs, Onion)\n",
      "7       0.6         (Milk, Kidney Beans)\n",
      "8       0.6        (Kidney Beans, Onion)\n",
      "9       0.6       (Kidney Beans, Yogurt)\n",
      "10      0.6  (Kidney Beans, Eggs, Onion)\n",
      "              antecedents            consequents  antecedent support  \\\n",
      "0          (Kidney Beans)                 (Eggs)                 1.0   \n",
      "1                  (Eggs)         (Kidney Beans)                 0.8   \n",
      "2                  (Eggs)                (Onion)                 0.8   \n",
      "3                 (Onion)                 (Eggs)                 0.6   \n",
      "4                  (Milk)         (Kidney Beans)                 0.6   \n",
      "5                 (Onion)         (Kidney Beans)                 0.6   \n",
      "6                (Yogurt)         (Kidney Beans)                 0.6   \n",
      "7    (Kidney Beans, Eggs)                (Onion)                 0.8   \n",
      "8   (Kidney Beans, Onion)                 (Eggs)                 0.6   \n",
      "9           (Eggs, Onion)         (Kidney Beans)                 0.6   \n",
      "10                 (Eggs)  (Kidney Beans, Onion)                 0.8   \n",
      "11                (Onion)   (Kidney Beans, Eggs)                 0.6   \n",
      "\n",
      "    consequent support  support  confidence  lift  leverage  conviction  \n",
      "0                  0.8      0.8        0.80  1.00      0.00         1.0  \n",
      "1                  1.0      0.8        1.00  1.00      0.00         inf  \n",
      "2                  0.6      0.6        0.75  1.25      0.12         1.6  \n",
      "3                  0.8      0.6        1.00  1.25      0.12         inf  \n",
      "4                  1.0      0.6        1.00  1.00      0.00         inf  \n",
      "5                  1.0      0.6        1.00  1.00      0.00         inf  \n",
      "6                  1.0      0.6        1.00  1.00      0.00         inf  \n",
      "7                  0.6      0.6        0.75  1.25      0.12         1.6  \n",
      "8                  0.8      0.6        1.00  1.25      0.12         inf  \n",
      "9                  1.0      0.6        1.00  1.00      0.00         inf  \n",
      "10                 0.6      0.6        0.75  1.25      0.12         1.6  \n",
      "11                 0.8      0.6        1.00  1.25      0.12         inf  \n",
      "             antecedents            consequents  antecedent support  \\\n",
      "0                 (Eggs)                (Onion)                 0.8   \n",
      "1                (Onion)                 (Eggs)                 0.6   \n",
      "2   (Kidney Beans, Eggs)                (Onion)                 0.8   \n",
      "3  (Kidney Beans, Onion)                 (Eggs)                 0.6   \n",
      "4                 (Eggs)  (Kidney Beans, Onion)                 0.8   \n",
      "5                (Onion)   (Kidney Beans, Eggs)                 0.6   \n",
      "\n",
      "   consequent support  support  confidence  lift  leverage  conviction  \n",
      "0                 0.6      0.6        0.75  1.25      0.12         1.6  \n",
      "1                 0.8      0.6        1.00  1.25      0.12         inf  \n",
      "2                 0.6      0.6        0.75  1.25      0.12         1.6  \n",
      "3                 0.8      0.6        1.00  1.25      0.12         inf  \n",
      "4                 0.6      0.6        0.75  1.25      0.12         1.6  \n",
      "5                 0.8      0.6        1.00  1.25      0.12         inf  \n"
     ]
    }
   ],
   "source": [
    "import pandas as pd\n",
    "from mlxtend.preprocessing import TransactionEncoder\n",
    "from mlxtend.frequent_patterns import apriori\n",
    "\n",
    "\n",
    "dataset = [['Milk', 'Onion', 'Nutmeg', 'Kidney Beans', 'Eggs', 'Yogurt'],\n",
    "           ['Dill', 'Onion', 'Nutmeg', 'Kidney Beans', 'Eggs', 'Yogurt'],\n",
    "           ['Milk', 'Apple', 'Kidney Beans', 'Eggs'],\n",
    "           ['Milk', 'Unicorn', 'Corn', 'Kidney Beans', 'Yogurt'],\n",
    "           ['Corn', 'Onion', 'Onion', 'Kidney Beans', 'Ice cream', 'Eggs']]\n",
    "\n",
    "te = TransactionEncoder()\n",
    "te_ary = te.fit(dataset).transform(dataset)\n",
    "df = pd.DataFrame(te_ary, columns=te.columns_)\n",
    "frequent_itemsets = apriori(df, min_support=0.6, use_colnames=True)\n",
    "\n",
    "print(frequent_itemsets)\n",
    "\n",
    "from mlxtend.frequent_patterns import association_rules\n",
    "\n",
    "print(association_rules(frequent_itemsets, metric=\"confidence\", min_threshold=0.7))\n",
    "\n",
    "rules = association_rules(frequent_itemsets, metric=\"lift\", min_threshold=1.2)\n",
    "print(rules)\n",
    "\n",
    "\n"
   ]
  },
  {
   "cell_type": "code",
   "execution_count": null,
   "metadata": {},
   "outputs": [],
   "source": []
  }
 ],
 "metadata": {
  "kernelspec": {
   "display_name": "Python 3",
   "language": "python",
   "name": "python3"
  },
  "language_info": {
   "codemirror_mode": {
    "name": "ipython",
    "version": 3
   },
   "file_extension": ".py",
   "mimetype": "text/x-python",
   "name": "python",
   "nbconvert_exporter": "python",
   "pygments_lexer": "ipython3",
   "version": "3.7.4"
  }
 },
 "nbformat": 4,
 "nbformat_minor": 2
}
