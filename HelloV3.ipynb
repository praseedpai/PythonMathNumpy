{
 "cells": [
  {
   "cell_type": "markdown",
   "metadata": {},
   "source": [
    "Hello Python Script"
   ]
  },
  {
   "cell_type": "code",
   "execution_count": 1,
   "metadata": {},
   "outputs": [
    {
     "name": "stdout",
     "output_type": "stream",
     "text": [
      "Hello World\n",
      "\n",
      "\n"
     ]
    }
   ],
   "source": [
    "\n",
    "#---- A Simple Console Output\n",
    "#---- Equivalent to Printf\n",
    "\n",
    "print(\"Hello World\\n\\n\")"
   ]
  },
  {
   "cell_type": "code",
   "execution_count": 3,
   "metadata": {},
   "outputs": [
    {
     "name": "stdout",
     "output_type": "stream",
     "text": [
      "Hello, Praseed - welcome to 2019\n",
      "\n"
     ]
    }
   ],
   "source": [
    "\n",
    "#----- str(year)-converts year to string\n",
    "#----- Demonstrates formatted output\n",
    "\n",
    "name = \"Praseed\"\n",
    "year = 2019\n",
    "print(\"Hello, \" + name + \" - welcome to \" + str(year) + \"\\n\")\n",
    "# or -----   print(\"Hello %s, - welcome to %s \\n\" %(name, year))\n"
   ]
  },
  {
   "cell_type": "code",
   "execution_count": 4,
   "metadata": {},
   "outputs": [
    {
     "name": "stdout",
     "output_type": "stream",
     "text": [
      "Welcome to the future - yes, we have flying cars!\n",
      "\n"
     ]
    }
   ],
   "source": [
    "\n",
    "#----- If,else conditions\n",
    "\n",
    "if (year > 2018):\n",
    "\tprint(\"Welcome to the future - yes, we have flying cars!\\n\")\n",
    "elif(year < 2018):\n",
    "\tprint(\"The past - please don't change anything. Don't step on any butterflies. And for the sake of all thats good and holy, stay away from your parents!\\n\")\n",
    "else:\n",
    "\tprint(\"Anything wrong with your time machine? You have not gone anywhere, kiddo.\\n\")"
   ]
  },
  {
   "cell_type": "code",
   "execution_count": 5,
   "metadata": {},
   "outputs": [
    {
     "name": "stdout",
     "output_type": "stream",
     "text": [
      "0) Hi there!\n",
      "1) Hi there!\n",
      "2) Hi there!\n"
     ]
    }
   ],
   "source": [
    "#----- Range based for loop\n",
    "#----- For loop\n",
    "\n",
    "for i in range(0,3):\n",
    "\tprint(str(i) + \") Hi there!\")\n",
    "    # or -----   print(\"%d) Hi there!\" %(i))"
   ]
  },
  {
   "cell_type": "code",
   "execution_count": 7,
   "metadata": {},
   "outputs": [
    {
     "name": "stdout",
     "output_type": "stream",
     "text": [
      "range(0, 10)\n",
      "0\n",
      "1\n",
      "2\n",
      "3\n",
      "4\n",
      "5\n",
      "6\n",
      "7\n",
      "8\n",
      "9\n"
     ]
    }
   ],
   "source": [
    "#----- copying range value to a variable\n",
    "\n",
    "range_array= range(0,10)\n",
    "print(range_array)\n",
    "\n",
    "for i in range_array:\n",
    "    print(str(i))\n"
   ]
  },
  {
   "cell_type": "code",
   "execution_count": 8,
   "metadata": {},
   "outputs": [
    {
     "name": "stdout",
     "output_type": "stream",
     "text": [
      "Rule 1 : Do no harm\n",
      "Rule 2 : Obey\n",
      "Rule 3 : Continue Living\n",
      "\n"
     ]
    }
   ],
   "source": [
    "#----- Array demo\n",
    "#----- Numerical Array, While\n",
    "\n",
    "rules = ['Do no harm','Obey','Continue Living']\n",
    "i = 0\n",
    "while(i<len(rules)):\n",
    "\tprint(\"Rule \" + str(i+1) + \" : \" + rules[i])\n",
    "\ti = i + 1\n",
    "print()\n"
   ]
  },
  {
   "cell_type": "code",
   "execution_count": 10,
   "metadata": {},
   "outputs": [
    {
     "name": "stdout",
     "output_type": "stream",
     "text": [
      "hello : world\n",
      "foo : bar\n",
      "lorem : ipsum\n",
      "\n"
     ]
    }
   ],
   "source": [
    "#----- Associating array\n",
    "#----- Associated array, foreach\n",
    "\n",
    "associated = {\n",
    "\t'hello'\t:\t'world',\n",
    "\t'foo'\t:\t'bar',\n",
    "\t'lorem'\t:\t'ipsum'\n",
    "}\n",
    "for key in associated:\n",
    "\tprint(key + \" : \" + associated[key])\n",
    "print()"
   ]
  },
  {
   "cell_type": "code",
   "execution_count": 11,
   "metadata": {},
   "outputs": [
    {
     "name": "stdout",
     "output_type": "stream",
     "text": [
      "-------------------------------------\n",
      "\n",
      "3 4 5 \n",
      "\n",
      "6 8 10 \n",
      "\n",
      "----------------------------------\n",
      "\n"
     ]
    }
   ],
   "source": [
    "#----- Example of a Nested Loop\n",
    "#----- To calculate Pythagorean Triplets\n",
    "\n",
    "from math import sqrt\n",
    "n = int(10)+1\n",
    "print(\"-------------------------------------\\n\")\n",
    "for a in range(1,n):\n",
    "    for b in range(a,n):\n",
    "        c_square = a**2 + b**2\n",
    "        c = int(sqrt(c_square))\n",
    "        if ((c_square - c**2) == 0):\n",
    "            print(a, b, c,\"\\n\")\n",
    "\n",
    "print(\"----------------------------------\\n\")"
   ]
  },
  {
   "cell_type": "code",
   "execution_count": 12,
   "metadata": {},
   "outputs": [
    {
     "name": "stdout",
     "output_type": "stream",
     "text": [
      "-------------------------------------\n",
      "\n",
      "0 0\n",
      "1 1\n",
      "2 1\n",
      "3 2\n",
      "4 3\n",
      "5 5\n",
      "6 8\n",
      "7 13\n",
      "8 21\n",
      "-------------------------------------\n",
      "\n"
     ]
    }
   ],
   "source": [
    "#----- Iterating over a List using range and len\n",
    "\n",
    "print(\"-------------------------------------\\n\")\n",
    "fibonacci = [0,1,1,2,3,5,8,13,21]\n",
    "for i in range(len(fibonacci)):\n",
    "    print(i,fibonacci[i])\n",
    "print(\"-------------------------------------\\n\")"
   ]
  },
  {
   "cell_type": "code",
   "execution_count": 13,
   "metadata": {},
   "outputs": [
    {
     "name": "stdout",
     "output_type": "stream",
     "text": [
      "['hello', 'world', 'how', 'are', 'you']\n",
      "-------------------------------------\n",
      "\n",
      "hello:world:how:are:you\n"
     ]
    }
   ],
   "source": [
    "#----- Parsing a line...\n",
    "\n",
    "csv_values = str.split(\"hello,world,how,are,you\", \",\")\n",
    "print(csv_values)\n",
    "print(\"-------------------------------------\\n\")\n",
    "print(\":\".join(csv_values))"
   ]
  },
  {
   "cell_type": "code",
   "execution_count": 14,
   "metadata": {},
   "outputs": [
    {
     "name": "stdout",
     "output_type": "stream",
     "text": [
      "Hello Praseed. Welcome Back!\n",
      "\n"
     ]
    }
   ],
   "source": [
    "#------ A Single Argument Function\n",
    "#------\n",
    "# Function, argument, return, call\n",
    "\n",
    "def hello(name):\n",
    "\treturn \"Hello \" + name + \". Welcome Back!\\n\"\n",
    "\n",
    "hello_str = hello(\"Praseed\")\n",
    "print(hello_str)"
   ]
  },
  {
   "cell_type": "code",
   "execution_count": 15,
   "metadata": {},
   "outputs": [
    {
     "name": "stdout",
     "output_type": "stream",
     "text": [
      "Movie :  New Country for Old Men\n",
      "Rating :  **** ( 4 )\n",
      "\n"
     ]
    }
   ],
   "source": [
    "#----- A simple class\n",
    "# One for the OOP fanboys - Class, members, object and stuff.\n",
    "\n",
    "class Movie:\n",
    "    name = ''\n",
    "    rating = 0\n",
    "    \n",
    "    def __init__(self, name):\n",
    "        self.name = name\n",
    "        self.rateMovie()\n",
    "\n",
    "    def rateMovie(self):\n",
    "        self.rating = (len(self.name) % 10) + 1 #IMDBs rating algorithm. True story!\n",
    "    \n",
    "    def printMovieDetails(self):\n",
    "        print(\"Movie : \",  self.name)\n",
    "        print(\"Rating : \", '*' * self.rating , \"(\", self.rating ,\")\\n\")\n",
    "    \n",
    "\n",
    "#Create the object\n",
    "ncfom = Movie(\"New Country for Old Men\") #It's a sequel!\n",
    "ncfom.printMovieDetails()\n"
   ]
  },
  {
   "cell_type": "code",
   "execution_count": 16,
   "metadata": {},
   "outputs": [
    {
     "name": "stdout",
     "output_type": "stream",
     "text": [
      "Polly\n",
      "Polly is a Parrot\n",
      "Fido is a Dog\n",
      "Rover is a Dog\n",
      "Mittens is a Cat\n",
      "Fluffy is a Cat\n",
      "Fido chases cats: True\n",
      "Rover chases cats: False\n",
      "Mittens hates dogs: True\n",
      "Fluffy hates dogs: False\n"
     ]
    }
   ],
   "source": [
    "#--------------------------------------\n",
    "#---------------------------------------\n",
    "#---------------------------------------\n",
    "\n",
    "class Pet(object):\n",
    "\n",
    "    def __init__(self, name, species):\n",
    "        self.name = name\n",
    "        self.species = species\n",
    "\n",
    "    def getName(self):\n",
    "        return self.name\n",
    "\n",
    "    def getSpecies(self):\n",
    "        return self.species\n",
    "\n",
    "    def __str__(self):\n",
    "        return \"%s is a %s\" % (self.name, self.species)\n",
    "\n",
    "\n",
    "polly = Pet(\"Polly\", \"Parrot\")\n",
    "\n",
    "print(polly.getName())\n",
    "\n",
    "print(str(polly))\n",
    "\n",
    "\n",
    "class Dog(Pet):\n",
    "\n",
    "    def __init__(self, name, chases_cats):\n",
    "        Pet.__init__(self, name, \"Dog\")\n",
    "        self.chases_cats = chases_cats\n",
    "\n",
    "    def chasesCats(self):\n",
    "        return self.chases_cats\n",
    "\n",
    "\n",
    "class Cat(Pet):\n",
    "\n",
    "    def __init__(self, name, hates_dogs):\n",
    "        Pet.__init__(self, name, \"Cat\")\n",
    "        self.hates_dogs = hates_dogs\n",
    "\n",
    "    def hatesDogs(self):\n",
    "        return self.hates_dogs\n",
    "\n",
    "#-------------------- invocations \n",
    "fido = Dog(\"Fido\", True)\n",
    "rover = Dog(\"Rover\", False)\n",
    "mittens = Cat(\"Mittens\", True)\n",
    "fluffy = Cat(\"Fluffy\", False)\n",
    "print(fido)\n",
    "print(rover)\n",
    "print(mittens)\n",
    "print(fluffy)\n",
    "\n",
    "print(\"%s chases cats: %s\" % (fido.getName(), fido.chasesCats()))\n",
    "\n",
    "print(\"%s chases cats: %s\" % (rover.getName(), rover.chasesCats()))\n",
    "\n",
    "print(\"%s hates dogs: %s\" % (mittens.getName(), mittens.hatesDogs()))\n",
    "\n",
    "print(\"%s hates dogs: %s\" % (fluffy.getName(), fluffy.hatesDogs()))"
   ]
  },
  {
   "cell_type": "code",
   "execution_count": 17,
   "metadata": {},
   "outputs": [
    {
     "name": "stdout",
     "output_type": "stream",
     "text": [
      "[0, 1, 4, 9, 16, 25, 36, 49, 64, 81]\n",
      "[102.56, 97.7, 99.14, 100.03999999999999]\n",
      "[2, 3, 5, 7, 11, 13, 17, 19, 23, 29, 31, 37, 41, 43, 47, 53, 59, 61, 67, 71, 73, 79, 83, 89, 97]\n"
     ]
    }
   ],
   "source": [
    "#\n",
    "#\n",
    "#\n",
    "#\n",
    "# List comprehension examples\n",
    "#\n",
    "#\n",
    "myList=[i*i for i in range(10)]\n",
    "\n",
    "print(myList)\n",
    "\n",
    "Celsius = [39.2, 36.5, 37.3, 37.8]\n",
    "Fahrenheit = [ ((float(9)/5)*x + 32) for x in Celsius ]\n",
    "print(Fahrenheit)\n",
    "\n",
    "noprimes = [j for i in range(2, 8) for j in range(i*2, 100, i)]\n",
    "primes = [x for x in range(2, 100) if x not in noprimes]\n",
    "print(primes)\n"
   ]
  },
  {
   "cell_type": "code",
   "execution_count": 18,
   "metadata": {},
   "outputs": [
    {
     "name": "stdout",
     "output_type": "stream",
     "text": [
      "(12, 34.56, 'abc', 'xyz')\n"
     ]
    }
   ],
   "source": [
    "#\n",
    "#\n",
    "# Tuples are immutable\n",
    "\n",
    "tup1 = (12, 34.56)\n",
    "tup2 = ('abc', 'xyz')\n",
    "\n",
    "# Following action is not valid for tuples\n",
    "# tup1[0] = 100\n",
    "\n",
    "# So let's create a new tuple as follows\n",
    "tup3 = tup1 + tup2\n",
    "print(tup3)"
   ]
  },
  {
   "cell_type": "code",
   "execution_count": 19,
   "metadata": {},
   "outputs": [
    {
     "name": "stdout",
     "output_type": "stream",
     "text": [
      "64\n",
      "12\n",
      "[18, 9, 24, 12, 27]\n",
      "[14, 46, 28, 54, 44, 58, 26, 34, 64]\n",
      "139\n"
     ]
    }
   ],
   "source": [
    "#\n",
    "#\n",
    "g = lambda x: x**2\n",
    "def make_incrementor (n):\n",
    "    return lambda x: x + n\n",
    "\n",
    "print(g(8))\n",
    "r = make_incrementor(10);\n",
    "print(r(2))\n",
    "\n",
    "foo = [2, 18, 9, 22, 17, 24, 8, 12, 27]\n",
    "print(list(filter(lambda x: x % 3 == 0, foo)))\n",
    "print(list(map(lambda x: x * 2 + 10, foo)))\n",
    "\n",
    "from functools import reduce\n",
    "print(reduce(lambda x, y: x + y, foo))"
   ]
  },
  {
   "cell_type": "code",
   "execution_count": 20,
   "metadata": {},
   "outputs": [
    {
     "name": "stdout",
     "output_type": "stream",
     "text": [
      "=================================\n",
      "\n",
      "Shallow Copy\n",
      "\n",
      "['a', 'b', ['ab', 'shallow']]\n",
      "['a', 'b', ['ab', 'shallow']]\n",
      "=================================\n",
      "\n",
      "Deep Copy\n",
      "\n",
      "['c', 'd', ['cd', 'dc']]\n",
      "['c', 'd', ['cd', 'deep']]\n"
     ]
    }
   ],
   "source": [
    "# \n",
    "# Deep Copy vs Shallow Copy\n",
    "\n",
    "print(\"=================================\\n\")\n",
    "print(\"Shallow Copy\\n\")\n",
    "\n",
    "import copy\n",
    "\n",
    "lst1 = ['a','b',['ab','ba']]\n",
    "\n",
    "lst2 = copy.copy(lst1) # using copy to shallow copy\n",
    "\n",
    "lst2[2][1] = \"shallow\" # changing an element in the copied list\n",
    "\n",
    "print(lst1) # change reflected in original list\n",
    "print(lst2) # changed copied list\n",
    "\n",
    "print(\"=================================\\n\")\n",
    "print(\"Deep Copy\\n\")\n",
    "\n",
    "lst3 = ['c','d',['cd','dc']]\n",
    "\n",
    "lst4 = copy.deepcopy(lst3) # using deepcopy to deep copy\n",
    "\n",
    "lst4[2][1] = \"deep\" # changing an element in the copied list\n",
    "\n",
    "print(lst3) # change NOT reflected in original list\n",
    "print(lst4) # changed copied list\n"
   ]
  },
  {
   "cell_type": "code",
   "execution_count": 22,
   "metadata": {},
   "outputs": [
    {
     "name": "stdout",
     "output_type": "stream",
     "text": [
      "Current file has 11 chars\n",
      "\n"
     ]
    }
   ],
   "source": [
    "#\n",
    "# File IO\n",
    "# File reading, easy method...\n",
    "\n",
    "# Writing to a file\n",
    "\n",
    "file_out = open('hello.txt', 'w')\n",
    "file_out.write(\"Hello World\")\n",
    "file_out.close()\n",
    "\n",
    "file_in  = open('hello.txt', 'r')\n",
    "contents = file_in.read()\n",
    "print(\"Current file has \" + str(len(contents)) + \" chars\\n\")\n",
    "file_in.close()\n",
    "\n",
    "\n",
    "\n"
   ]
  },
  {
   "cell_type": "code",
   "execution_count": 23,
   "metadata": {},
   "outputs": [
    {
     "name": "stdout",
     "output_type": "stream",
     "text": [
      " Volume in drive D is DATA\n",
      " Volume Serial Number is 00FB-DE7E\n",
      "\n",
      " Directory of D:\\SUYATI\\TRAINING_DAYONE\n",
      "\n",
      "21-01-2020  05:39    <DIR>          .\n",
      "21-01-2020  05:39    <DIR>          ..\n",
      "21-01-2020  05:30    <DIR>          .ipynb_checkpoints\n",
      "21-01-2020  05:39                11 hello.txt\n",
      "21-01-2020  05:39            15,336 HelloV3.ipynb\n",
      "21-01-2020  05:14    <DIR>          Stat\n",
      "21-01-2020  05:14             1,570 Stat.ipynb\n",
      "21-01-2020  05:21             4,751 Stat.py\n",
      "21-01-2020  04:58            16,219 Stat_Note.htm\n",
      "21-01-2020  05:13    <DIR>          Untitled Folder\n",
      "21-01-2020  05:29             4,567 Untitled.ipynb\n",
      "               6 File(s)         42,454 bytes\n",
      "               5 Dir(s)  158,719,307,776 bytes free\n",
      "\n",
      "\n"
     ]
    }
   ],
   "source": [
    "#----- Execute the command 'ls' and print its output\n",
    "\n",
    "import subprocess\n",
    "\n",
    "print(subprocess.getoutput('dir'))\n",
    "print(\"\\n\")"
   ]
  },
  {
   "cell_type": "code",
   "execution_count": 24,
   "metadata": {},
   "outputs": [
    {
     "name": "stdout",
     "output_type": "stream",
     "text": [
      "Yup - its evil (Compiled)\n",
      "Yup - its evil (Not Compiled)\n",
      "Helo Word\n"
     ]
    }
   ],
   "source": [
    "#\n",
    "# Regular Expressions\n",
    "#\n",
    "import re\n",
    "hell_check = re.compile(\"^Hell\")\n",
    "string = \"Hello World\"\n",
    "\n",
    "if hell_check.match(string):\n",
    "    print(\"Yup - its evil (Compiled)\")\n",
    "\n",
    "if re.match('^Hell', string):\n",
    "    print(\"Yup - its evil (Not Compiled)\")\n",
    "\n",
    "print(re.sub(r'l([^l])', r'\\1', string))\n",
    "\n",
    "#----- End of File"
   ]
  },
  {
   "cell_type": "code",
   "execution_count": null,
   "metadata": {},
   "outputs": [],
   "source": []
  }
 ],
 "metadata": {
  "kernelspec": {
   "display_name": "Python 3",
   "language": "python",
   "name": "python3"
  },
  "language_info": {
   "codemirror_mode": {
    "name": "ipython",
    "version": 3
   },
   "file_extension": ".py",
   "mimetype": "text/x-python",
   "name": "python",
   "nbconvert_exporter": "python",
   "pygments_lexer": "ipython3",
   "version": "3.7.4"
  }
 },
 "nbformat": 4,
 "nbformat_minor": 2
}
